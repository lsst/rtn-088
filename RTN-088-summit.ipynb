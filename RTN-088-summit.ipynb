{
 "cells": [
  {
   "cell_type": "markdown",
   "id": "af45f07a-ec05-4010-bd30-0e65bc035f1e",
   "metadata": {
    "tags": []
   },
   "source": [
    "# 3.1 Data transferred and ingested in butler and access to data\n"
   ]
  },
  {
   "cell_type": "markdown",
   "id": "93c2ee07-2b51-4926-b904-31441aa52fd1",
   "metadata": {},
   "source": [
    "See if we can count images for some OR4 night  "
   ]
  },
  {
   "cell_type": "code",
   "execution_count": 1,
   "id": "6886f1f9-e461-4cb4-89d3-f1b966cac1b8",
   "metadata": {
    "execution": {
     "iopub.execute_input": "2023-05-16T20:40:51.344500Z",
     "iopub.status.busy": "2023-05-16T20:40:51.344232Z",
     "iopub.status.idle": "2023-05-16T20:40:52.546075Z",
     "shell.execute_reply": "2023-05-16T20:40:52.545618Z",
     "shell.execute_reply.started": "2023-05-16T20:40:51.344482Z"
    },
    "tags": []
   },
   "outputs": [
    {
     "name": "stdout",
     "output_type": "stream",
     "text": [
      "exposure: \n",
      "  instrument: str\n",
      "  id: int\n",
      "  physical_filter: str\n",
      "  obs_id: str\n",
      "  exposure_time: float\n",
      "  dark_time: float\n",
      "  observation_type: str\n",
      "  observation_reason: str\n",
      "  day_obs: int\n",
      "  seq_num: int\n",
      "  seq_start: int\n",
      "  seq_end: int\n",
      "  group_name: str\n",
      "  group_id: int\n",
      "  target_name: str\n",
      "  science_program: str\n",
      "  tracking_ra: float\n",
      "  tracking_dec: float\n",
      "  sky_angle: float\n",
      "  azimuth: float\n",
      "  zenith_angle: float\n",
      "  has_simulated: bool\n",
      "  timespan: lsst.daf.butler.Timespan\n"
     ]
    }
   ],
   "source": [
    "from lsst.daf.butler import Butler\n",
    "from lsst.daf.butler.registry import Registry\n",
    "\n",
    "instrument = 'LSSTComCamSim'\n",
    "repo = '/repo/LSSTComCam'  # Need to check the summit repo name.\n",
    "# raw all collection contains all images \n",
    "collections=['LSSTComCamSim/raw/all']\n",
    "butler = Butler(repo, collections=collections, instrument=instrument)\n",
    "registry = butler.registry\n",
    "\n",
    "print(butler.registry.dimensions[\"exposure\"].RecordClass.fields)\n"
   ]
  },
  {
   "cell_type": "markdown",
   "id": "67e12627-50ab-4358-89fa-30d3bdf7e084",
   "metadata": {},
   "source": [
    "Get raws for a given night we list the first and last detector and exposure id since the test asks for that. For LATISS the detector is always 0. \n"
   ]
  },
  {
   "cell_type": "code",
   "execution_count": 2,
   "id": "8af5fe56-7e45-46cb-a33b-47ef5ba6889e",
   "metadata": {
    "execution": {
     "iopub.execute_input": "2023-05-16T20:41:24.930490Z",
     "iopub.status.busy": "2023-05-16T20:41:24.930205Z",
     "iopub.status.idle": "2023-05-16T20:41:25.007767Z",
     "shell.execute_reply": "2023-05-16T20:41:25.007137Z",
     "shell.execute_reply.started": "2023-05-16T20:41:24.930473Z"
    },
    "tags": []
   },
   "outputs": [
    {
     "name": "stdout",
     "output_type": "stream",
     "text": [
      "There are 599 raw in collection: ['LATISS/raw/all'] in: /repo/LATISS for exposure.day_obs = 20230511\n",
      "0 2023051100001\n",
      "0 2023051100599\n"
     ]
    }
   ],
   "source": [
    "\n",
    "dt='raw'\n",
    "where=\"exposure.day_obs = 20240626\"\n",
    "datasetRefs = list(registry.queryDatasets(datasetType=dt,where=where))\n",
    "\n",
    "print(f\"There are {len(datasetRefs)} {dt} in collection: {collections} in: {repo} for {where}\")\n",
    "\n",
    "count = 0\n",
    "for ref in datasetRefs[0], datasetRefs[-1]:\n",
    "    count = count + 1\n",
    "    print( ref.dataId['detector'], ref.dataId['exposure'])\n",
    "    last_exposure = ref.dataId['exposure']"
   ]
  },
  {
   "cell_type": "markdown",
   "id": "b72217c0-97dc-4f61-8984-6ca32928ce31",
   "metadata": {
    "tags": []
   },
   "source": [
    "Not needed for test but since we are here, let's get the last exposure."
   ]
  },
  {
   "cell_type": "code",
   "execution_count": 5,
   "id": "b027f428-e386-48a2-8fe1-6b8bcd24ed97",
   "metadata": {
    "execution": {
     "iopub.execute_input": "2023-05-16T20:43:21.290313Z",
     "iopub.status.busy": "2023-05-16T20:43:21.290027Z",
     "iopub.status.idle": "2023-05-16T20:43:21.702114Z",
     "shell.execute_reply": "2023-05-16T20:43:21.701631Z",
     "shell.execute_reply.started": "2023-05-16T20:43:21.290297Z"
    },
    "tags": []
   },
   "outputs": [
    {
     "data": {
      "text/html": [
       "<pre style=\"margin: 0.1em;\n",
       "padding-left: 0.25em;\n",
       "border-left-style: solid;\n",
       "font-family: var(--jp-code-font-family);\n",
       "font-size: var(--jp-code-font-size);\n",
       "line-height: var(--jp-code-line-height);\n",
       "\"><span style=\"color: var(--jp-warn-color2)\">lsst.obs.base._fitsRawFormatterBase</span> <span style=\"color: var(--jp-warn-color0)\">WARNING</span>: Cannot create a valid WCS from metadata: CRPIX1</pre>"
      ],
      "text/plain": [
       "<IPython.core.display.HTML object>"
      ]
     },
     "metadata": {},
     "output_type": "display_data"
    }
   ],
   "source": [
    "\n",
    "dataId = {'exposure': last_exposure, 'detector': 0, }\n",
    "img = butler.get('raw', **dataId)\n"
   ]
  },
  {
   "cell_type": "markdown",
   "id": "252bbfae-89c7-4f36-adb2-62d01b925049",
   "metadata": {},
   "source": [
    "Now we have 1 image\n",
    "lets look at it  .. you do not need this following cell it is just in case you want to chekc the image.\n",
    "Firefly will pop up in another tab."
   ]
  },
  {
   "cell_type": "code",
   "execution_count": 4,
   "id": "7e509dd0-84f0-47a9-a1e6-91e0e2dc23d5",
   "metadata": {
    "execution": {
     "iopub.execute_input": "2023-05-16T20:42:59.390903Z",
     "iopub.status.busy": "2023-05-16T20:42:59.390632Z",
     "iopub.status.idle": "2023-05-16T20:43:01.035883Z",
     "shell.execute_reply": "2023-05-16T20:43:01.035383Z",
     "shell.execute_reply.started": "2023-05-16T20:42:59.390887Z"
    },
    "tags": []
   },
   "outputs": [
    {
     "data": {
      "text/html": [
       "<pre style=\"margin: 0.1em;\n",
       "padding-left: 0.25em;\n",
       "border-left-style: solid;\n",
       "font-family: var(--jp-code-font-family);\n",
       "font-size: var(--jp-code-font-size);\n",
       "line-height: var(--jp-code-line-height);\n",
       "\"><span style=\"color: var(--jp-warn-color2)\">websocket</span> <span style=\"color: var(--jp-info-color0)\">INFO</span>: Websocket connected</pre>"
      ],
      "text/plain": [
       "<IPython.core.display.HTML object>"
      ]
     },
     "metadata": {},
     "output_type": "display_data"
    }
   ],
   "source": [
    "import lsst.afw.display as afwDisplay\n",
    "\n",
    "display = afwDisplay.getDisplay(backend='firefly')\n",
    "\n",
    "display.mtv(img)\n",
    "\n"
   ]
  },
  {
   "cell_type": "markdown",
   "id": "056dbf05-5b8d-4fdb-9219-a224d0bfd424",
   "metadata": {},
   "source": [
    "#3.2 LFA replication to USDF\n",
    "Look in EFD for events with Large Files - check some of them"
   ]
  },
  {
   "cell_type": "code",
   "execution_count": 2,
   "id": "b7fea98d-c92d-4fa4-afce-1937518ee6c5",
   "metadata": {
    "execution": {
     "iopub.execute_input": "2023-05-19T12:36:32.408862Z",
     "iopub.status.busy": "2023-05-19T12:36:32.408516Z",
     "iopub.status.idle": "2023-05-19T12:36:35.185948Z",
     "shell.execute_reply": "2023-05-19T12:36:35.185399Z",
     "shell.execute_reply.started": "2023-05-19T12:36:32.408845Z"
    },
    "tags": []
   },
   "outputs": [],
   "source": [
    "from lsst_efd_client import EfdClient, resample\n",
    "loc = 'summit'\n",
    "\n",
    "client = EfdClient(f'{loc}_efd')  \n",
    "client.output = 'dataframe'\n",
    "cl=client.influx_client\n",
    "day = '2024-06-26'\n",
    "\n",
    "query=f'''SELECT url, id FROM \"lsst.sal.Electrometer.logevent_largeFileObjectAvailable\" WHERE time >  '{day}' '''\n",
    "result = await cl.query(query)\n"
   ]
  },
  {
   "cell_type": "code",
   "execution_count": 3,
   "id": "3711d633-44a0-4bdc-a2d9-ae5886622870",
   "metadata": {
    "execution": {
     "iopub.execute_input": "2023-05-18T13:22:21.047787Z",
     "iopub.status.busy": "2023-05-18T13:22:21.047521Z",
     "iopub.status.idle": "2023-05-18T13:22:21.050518Z",
     "shell.execute_reply": "2023-05-18T13:22:21.050122Z",
     "shell.execute_reply.started": "2023-05-18T13:22:21.047770Z"
    },
    "tags": []
   },
   "outputs": [
    {
     "name": "stdout",
     "output_type": "stream",
     "text": [
      "Got 173 Large files availble since 2023-04-20 at summit\n"
     ]
    }
   ],
   "source": [
    "print(f\"Got {len(result)} Large files availble since {day} at {loc}\")"
   ]
  },
  {
   "cell_type": "markdown",
   "id": "fdb96e9b-d089-4e1d-82cc-4bf9f10074d2",
   "metadata": {},
   "source": [
    "#3.4 EFD data available\n",
    "Choose at least 5 EFD topics at random from those available at the Summit. Choose at least 20 messages per topic from those available at the Summit, including 10 from the previous observing day and 10 from past history. Verify that all 100 messages are present in the USDF EFD."
   ]
  },
  {
   "cell_type": "code",
   "execution_count": 23,
   "id": "f0ba04fd-bdfa-4c67-814c-10d88d4f3b85",
   "metadata": {
    "execution": {
     "iopub.execute_input": "2023-05-19T13:27:16.353046Z",
     "iopub.status.busy": "2023-05-19T13:27:16.352697Z",
     "iopub.status.idle": "2023-05-19T13:27:19.812036Z",
     "shell.execute_reply": "2023-05-19T13:27:19.811479Z",
     "shell.execute_reply.started": "2023-05-19T13:27:16.353029Z"
    },
    "tags": []
   },
   "outputs": [
    {
     "name": "stdout",
     "output_type": "stream",
     "text": [
      "lsst.sal.ATPtg.mountPositions had 29 messages\n",
      "lsst.sal.ATPtg.mountPositions had 29 older messages\n",
      "lsst.sal.MTAirCompressor.analogData had 46 messages\n",
      "lsst.sal.MTAirCompressor.analogData had 46 older messages\n",
      "lsst.sal.MTMount.elevationDrives had 456 messages\n",
      "lsst.sal.GIS.logevent_heartbeat had 30 messages\n",
      "lsst.sal.GIS.logevent_heartbeat had 30 older messages\n",
      "lsst.sal.ESS.lightningStrikeStatus had 30 older messages\n",
      "Random selction of five 'summit' topics ['lsst.sal.ATPtg.mountPositions', 'lsst.sal.MTAirCompressor.analogData', 'lsst.sal.MTMount.elevationDrives', 'lsst.sal.GIS.logevent_heartbeat'] with messages on 2023-04-20\n",
      "Random selction of five 'summit' older topics ['lsst.sal.ATPtg.mountPositions', 'lsst.sal.MTAirCompressor.analogData', 'lsst.sal.GIS.logevent_heartbeat', 'lsst.sal.ESS.lightningStrikeStatus'] with messages on 2023-05-02\n"
     ]
    }
   ],
   "source": [
    "import random\n",
    "topics = await client.get_topics()\n",
    "\n",
    "selected_topics = []\n",
    "old_topics = []\n",
    "results = {}\n",
    "oldresults = {}\n",
    "\n",
    "oldday = '2024-06-26'\n",
    "\n",
    "# want to selct 5 topics randomly but with messages so randomize all indexes \n",
    "randoms = random.sample(range(0,len(topics)),len(topics))\n",
    "for r in randoms:\n",
    "   topic = topics[r]\n",
    "   result = oldresult = []\n",
    "   if len(selected_topics) < 4:\n",
    "      query=f'''SELECT * FROM \"{topic}\" WHERE time >  '{day}T00:00:00.000Z' and time < '{day}T00:00:30.000Z' '''\n",
    "      result = await cl.query(query)\n",
    "\n",
    "   if len(old_topics) < 4:   \n",
    "      query=f'''SELECT * FROM \"{topic}\" WHERE time >  '{oldday}T00:00:00.000Z' and time < '{oldday}T00:00:30.000Z' '''\n",
    "      oldresult = await cl.query(query)\n",
    "\n",
    "   if len(result) > 20:\n",
    "        print (f\"{topic} had {len(result)} messages\")\n",
    "        selected_topics.append(topic)\n",
    "        results[topic] = result\n",
    "        if len(selected_topics) > 4 and len(old_topics) > 4:\n",
    "            break\n",
    "\n",
    "   if len(oldresult) > 20:\n",
    "        print (f\"{topic} had {len(oldresult)} older messages\")\n",
    "        old_topics.append(topic)\n",
    "        oldresults[topic] = oldresult\n",
    "        if len(selected_topics) > 4 and len(old_topics) > 4:\n",
    "            break\n",
    "\n",
    "\n",
    "print(f\"Random selction of five '{loc}' topics {selected_topics} with messages on {day}\")\n",
    "print(f\"Random selction of five '{loc}' older topics {old_topics} with messages on {oldday}\")\n",
    "\n",
    "    "
   ]
  },
  {
   "cell_type": "code",
   "execution_count": 32,
   "id": "b69ecc32-b969-4f08-9b7d-611e4f53de33",
   "metadata": {
    "execution": {
     "iopub.execute_input": "2023-05-19T13:53:51.561016Z",
     "iopub.status.busy": "2023-05-19T13:53:51.560755Z",
     "iopub.status.idle": "2023-05-19T13:53:51.569581Z",
     "shell.execute_reply": "2023-05-19T13:53:51.569215Z",
     "shell.execute_reply.started": "2023-05-19T13:53:51.561000Z"
    },
    "tags": []
   },
   "outputs": [],
   "source": [
    "import pickle\n",
    "with open('test_data.pickle', 'wb') as file:\n",
    "    pickle.dump(results,file, protocol=pickle.HIGHEST_PROTOCOL)\n",
    "\n",
    "with open('old_test_data.pickle', 'wb') as file:\n",
    "     pickle.dump(oldresults,file, protocol=pickle.HIGHEST_PROTOCOL)\n",
    "\n",
    "#move these files to USDF\n"
   ]
  }
 ],
 "metadata": {
  "kernelspec": {
   "display_name": "LSST",
   "language": "python",
   "name": "lsst"
  },
  "language_info": {
   "codemirror_mode": {
    "name": "ipython",
    "version": 3
   },
   "file_extension": ".py",
   "mimetype": "text/x-python",
   "name": "python",
   "nbconvert_exporter": "python",
   "pygments_lexer": "ipython3",
   "version": "3.11.9"
  }
 },
 "nbformat": 4,
 "nbformat_minor": 5
}
