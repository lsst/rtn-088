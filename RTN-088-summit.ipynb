{
 "cells": [
  {
   "cell_type": "markdown",
   "id": "af45f07a-ec05-4010-bd30-0e65bc035f1e",
   "metadata": {
    "tags": []
   },
   "source": [
    "# 3.1 Data transferred and ingested in butler and access to data\n"
   ]
  },
  {
   "cell_type": "markdown",
   "id": "93c2ee07-2b51-4926-b904-31441aa52fd1",
   "metadata": {},
   "source": [
    "See if we can count images for some OR4 night  "
   ]
  },
  {
   "cell_type": "code",
   "execution_count": 1,
   "id": "6886f1f9-e461-4cb4-89d3-f1b966cac1b8",
   "metadata": {
    "execution": {
     "iopub.execute_input": "2024-09-13T14:20:49.116833Z",
     "iopub.status.busy": "2024-09-13T14:20:49.116253Z",
     "iopub.status.idle": "2024-09-13T14:20:49.976065Z",
     "shell.execute_reply": "2024-09-13T14:20:49.975654Z",
     "shell.execute_reply.started": "2024-09-13T14:20:49.116816Z"
    },
    "tags": []
   },
   "outputs": [
    {
     "name": "stdout",
     "output_type": "stream",
     "text": [
      "exposure: \n",
      "  instrument: str\n",
      "  id: int\n",
      "  day_obs: int\n",
      "  group: str\n",
      "  physical_filter: str\n",
      "  obs_id: str\n",
      "  exposure_time: float\n",
      "  dark_time: float\n",
      "  observation_type: str\n",
      "  observation_reason: str\n",
      "  seq_num: int\n",
      "  seq_start: int\n",
      "  seq_end: int\n",
      "  target_name: str\n",
      "  science_program: str\n",
      "  tracking_ra: float\n",
      "  tracking_dec: float\n",
      "  sky_angle: float\n",
      "  azimuth: float\n",
      "  zenith_angle: float\n",
      "  has_simulated: bool\n",
      "  can_see_sky: bool\n",
      "  timespan: lsst.daf.butler.Timespan\n"
     ]
    }
   ],
   "source": [
    "from lsst.daf.butler import Butler\n",
    "from lsst.daf.butler.registry import Registry\n",
    "\n",
    "instrument = 'LSSTComCamSim'\n",
    "repo = '/repo/LSSTComCam'  # Need to check the summit repo name.\n",
    "# raw all collection contains all images \n",
    "collections=['LSSTComCamSim/raw/all']\n",
    "butler = Butler(repo, collections=collections, instrument=instrument)\n",
    "registry = butler.registry\n",
    "\n",
    "print(butler.registry.dimensions[\"exposure\"].RecordClass.fields)\n"
   ]
  },
  {
   "cell_type": "markdown",
   "id": "67e12627-50ab-4358-89fa-30d3bdf7e084",
   "metadata": {},
   "source": [
    "Get raws for a given night we list the first and last detector and exposure id since the test asks for that. For LATISS the detector is always 0. \n"
   ]
  },
  {
   "cell_type": "code",
   "execution_count": 2,
   "id": "8af5fe56-7e45-46cb-a33b-47ef5ba6889e",
   "metadata": {
    "execution": {
     "iopub.execute_input": "2024-09-13T14:21:02.343368Z",
     "iopub.status.busy": "2024-09-13T14:21:02.342783Z",
     "iopub.status.idle": "2024-09-13T14:21:02.675937Z",
     "shell.execute_reply": "2024-09-13T14:21:02.675488Z",
     "shell.execute_reply.started": "2024-09-13T14:21:02.343347Z"
    },
    "tags": []
   },
   "outputs": [
    {
     "name": "stdout",
     "output_type": "stream",
     "text": [
      "There are 7074 raw in collection: ['LSSTComCamSim/raw/all'] in: /repo/LSSTComCam for exposure.day_obs = 20240626\n",
      "4 7024062600701\n",
      "0 7024062600700\n"
     ]
    }
   ],
   "source": [
    "\n",
    "dt='raw'\n",
    "where=\"exposure.day_obs = 20240626\"\n",
    "datasetRefs = list(registry.queryDatasets(datasetType=dt,where=where))\n",
    "\n",
    "print(f\"There are {len(datasetRefs)} {dt} in collection: {collections} in: {repo} for {where}\")\n",
    "\n",
    "count = 0\n",
    "for ref in datasetRefs[0], datasetRefs[-1]:\n",
    "    count = count + 1\n",
    "    print( ref.dataId['detector'], ref.dataId['exposure'])\n",
    "    last_exposure = ref.dataId['exposure']"
   ]
  },
  {
   "cell_type": "markdown",
   "id": "b72217c0-97dc-4f61-8984-6ca32928ce31",
   "metadata": {
    "tags": []
   },
   "source": [
    "Not needed for test but since we are here, let's get the last exposure."
   ]
  },
  {
   "cell_type": "code",
   "execution_count": 3,
   "id": "b027f428-e386-48a2-8fe1-6b8bcd24ed97",
   "metadata": {
    "execution": {
     "iopub.execute_input": "2024-09-13T14:21:13.810627Z",
     "iopub.status.busy": "2024-09-13T14:21:13.810296Z",
     "iopub.status.idle": "2024-09-13T14:21:47.286346Z",
     "shell.execute_reply": "2024-09-13T14:21:47.285808Z",
     "shell.execute_reply.started": "2024-09-13T14:21:13.810609Z"
    },
    "tags": []
   },
   "outputs": [],
   "source": [
    "\n",
    "dataId = {'exposure': last_exposure, 'detector': 0, }\n",
    "img = butler.get('raw', **dataId)\n"
   ]
  },
  {
   "cell_type": "markdown",
   "id": "252bbfae-89c7-4f36-adb2-62d01b925049",
   "metadata": {},
   "source": [
    "Now we have 1 image\n",
    "lets look at it  .. you do not need this following cell it is just in case you want to chekc the image.\n",
    "Firefly will pop up in another tab."
   ]
  },
  {
   "cell_type": "code",
   "execution_count": 4,
   "id": "7e509dd0-84f0-47a9-a1e6-91e0e2dc23d5",
   "metadata": {
    "execution": {
     "iopub.execute_input": "2024-09-13T14:23:54.633220Z",
     "iopub.status.busy": "2024-09-13T14:23:54.632884Z",
     "iopub.status.idle": "2024-09-13T14:23:56.379015Z",
     "shell.execute_reply": "2024-09-13T14:23:56.378484Z",
     "shell.execute_reply.started": "2024-09-13T14:23:54.633204Z"
    },
    "tags": []
   },
   "outputs": [
    {
     "data": {
      "text/html": [
       "<pre style=\"margin: 0.1em;\n",
       "padding-left: 0.25em;\n",
       "border-left-style: solid;\n",
       "font-family: var(--jp-code-font-family);\n",
       "font-size: var(--jp-code-font-size);\n",
       "line-height: var(--jp-code-line-height);\n",
       "\"><span style=\"color: var(--jp-warn-color2)\">websocket</span> <span style=\"color: var(--jp-info-color0)\">INFO</span>: Websocket connected</pre>"
      ],
      "text/plain": [
       "<IPython.core.display.HTML object>"
      ]
     },
     "metadata": {},
     "output_type": "display_data"
    }
   ],
   "source": [
    "import lsst.afw.display as afwDisplay\n",
    "\n",
    "display = afwDisplay.getDisplay(backend='firefly')\n",
    "\n",
    "display.mtv(img)\n",
    "\n"
   ]
  },
  {
   "cell_type": "markdown",
   "id": "056dbf05-5b8d-4fdb-9219-a224d0bfd424",
   "metadata": {},
   "source": [
    "#3.2 LFA replication to USDF\n",
    "Look in EFD for events with Large Files - check some of them"
   ]
  },
  {
   "cell_type": "code",
   "execution_count": 5,
   "id": "b7fea98d-c92d-4fa4-afce-1937518ee6c5",
   "metadata": {
    "execution": {
     "iopub.execute_input": "2024-09-13T14:24:16.627608Z",
     "iopub.status.busy": "2024-09-13T14:24:16.627246Z",
     "iopub.status.idle": "2024-09-13T14:24:18.512783Z",
     "shell.execute_reply": "2024-09-13T14:24:18.512248Z",
     "shell.execute_reply.started": "2024-09-13T14:24:16.627592Z"
    },
    "tags": []
   },
   "outputs": [],
   "source": [
    "from lsst_efd_client import EfdClient, resample\n",
    "loc = 'summit'\n",
    "\n",
    "client = EfdClient(f'{loc}_efd')  \n",
    "client.output = 'dataframe'\n",
    "cl=client.influx_client\n",
    "day = '2024-06-26'\n",
    "\n",
    "query=f'''SELECT url, id FROM \"lsst.sal.Electrometer.logevent_largeFileObjectAvailable\" WHERE time >  '{day}' '''\n",
    "result = await cl.query(query)\n"
   ]
  },
  {
   "cell_type": "code",
   "execution_count": 6,
   "id": "3711d633-44a0-4bdc-a2d9-ae5886622870",
   "metadata": {
    "execution": {
     "iopub.execute_input": "2024-09-13T14:24:41.165939Z",
     "iopub.status.busy": "2024-09-13T14:24:41.165384Z",
     "iopub.status.idle": "2024-09-13T14:24:41.169099Z",
     "shell.execute_reply": "2024-09-13T14:24:41.168601Z",
     "shell.execute_reply.started": "2024-09-13T14:24:41.165923Z"
    },
    "tags": []
   },
   "outputs": [
    {
     "name": "stdout",
     "output_type": "stream",
     "text": [
      "Got 7704 Large files availble since 2024-06-26 at summit\n"
     ]
    }
   ],
   "source": [
    "print(f\"Got {len(result)} Large files availble since {day} at {loc}\")"
   ]
  },
  {
   "cell_type": "markdown",
   "id": "fdb96e9b-d089-4e1d-82cc-4bf9f10074d2",
   "metadata": {},
   "source": [
    "#3.4 EFD data available\n",
    "Choose at least 5 EFD topics at random from those available at the Summit. Choose at least 20 messages per topic from those available at the Summit, including 10 from the previous observing day and 10 from past history. Verify that all 100 messages are present in the USDF EFD."
   ]
  },
  {
   "cell_type": "code",
   "execution_count": 7,
   "id": "f0ba04fd-bdfa-4c67-814c-10d88d4f3b85",
   "metadata": {
    "execution": {
     "iopub.execute_input": "2024-09-13T14:24:48.102672Z",
     "iopub.status.busy": "2024-09-13T14:24:48.102217Z",
     "iopub.status.idle": "2024-09-13T14:24:48.577071Z",
     "shell.execute_reply": "2024-09-13T14:24:48.576656Z",
     "shell.execute_reply.started": "2024-09-13T14:24:48.102655Z"
    },
    "tags": []
   },
   "outputs": [
    {
     "name": "stdout",
     "output_type": "stream",
     "text": [
      "lsst.sal.MTM2.logevent_digitalOutput had 551 messages\n",
      "lsst.sal.MTM2.logevent_digitalOutput had 551 older messages\n",
      "lsst.sal.MTM2.tangentActuatorSteps had 151 messages\n",
      "lsst.sal.MTM2.tangentActuatorSteps had 151 older messages\n",
      "lsst.sal.ATOODS.logevent_heartbeat had 30 messages\n",
      "lsst.sal.ATOODS.logevent_heartbeat had 30 older messages\n",
      "lsst.sal.TunableLaser.logevent_heartbeat had 30 messages\n",
      "lsst.sal.TunableLaser.logevent_heartbeat had 30 older messages\n",
      "Random selction of five 'summit' topics ['lsst.sal.MTM2.logevent_digitalOutput', 'lsst.sal.MTM2.tangentActuatorSteps', 'lsst.sal.ATOODS.logevent_heartbeat', 'lsst.sal.TunableLaser.logevent_heartbeat'] with messages on 2024-06-26\n",
      "Random selction of five 'summit' older topics ['lsst.sal.MTM2.logevent_digitalOutput', 'lsst.sal.MTM2.tangentActuatorSteps', 'lsst.sal.ATOODS.logevent_heartbeat', 'lsst.sal.TunableLaser.logevent_heartbeat'] with messages on 2024-06-26\n"
     ]
    }
   ],
   "source": [
    "import random\n",
    "topics = await client.get_topics()\n",
    "\n",
    "selected_topics = []\n",
    "old_topics = []\n",
    "results = {}\n",
    "oldresults = {}\n",
    "\n",
    "oldday = '2024-06-26'\n",
    "\n",
    "# want to selct 5 topics randomly but with messages so randomize all indexes \n",
    "randoms = random.sample(range(0,len(topics)),len(topics))\n",
    "for r in randoms:\n",
    "   topic = topics[r]\n",
    "   result = oldresult = []\n",
    "   if len(selected_topics) < 4:\n",
    "      query=f'''SELECT * FROM \"{topic}\" WHERE time >  '{day}T00:00:00.000Z' and time < '{day}T00:00:30.000Z' '''\n",
    "      result = await cl.query(query)\n",
    "\n",
    "   if len(old_topics) < 4:   \n",
    "      query=f'''SELECT * FROM \"{topic}\" WHERE time >  '{oldday}T00:00:00.000Z' and time < '{oldday}T00:00:30.000Z' '''\n",
    "      oldresult = await cl.query(query)\n",
    "\n",
    "   if len(result) > 20:\n",
    "        print (f\"{topic} had {len(result)} messages\")\n",
    "        selected_topics.append(topic)\n",
    "        results[topic] = result\n",
    "        if len(selected_topics) > 4 and len(old_topics) > 4:\n",
    "            break\n",
    "\n",
    "   if len(oldresult) > 20:\n",
    "        print (f\"{topic} had {len(oldresult)} older messages\")\n",
    "        old_topics.append(topic)\n",
    "        oldresults[topic] = oldresult\n",
    "        if len(selected_topics) > 4 and len(old_topics) > 4:\n",
    "            break\n",
    "\n",
    "\n",
    "print(f\"Random selction of five '{loc}' topics {selected_topics} with messages on {day}\")\n",
    "print(f\"Random selction of five '{loc}' older topics {old_topics} with messages on {oldday}\")\n",
    "\n",
    "    "
   ]
  },
  {
   "cell_type": "code",
   "execution_count": 8,
   "id": "b69ecc32-b969-4f08-9b7d-611e4f53de33",
   "metadata": {
    "execution": {
     "iopub.execute_input": "2024-09-13T14:25:25.155693Z",
     "iopub.status.busy": "2024-09-13T14:25:25.155108Z",
     "iopub.status.idle": "2024-09-13T14:25:25.161674Z",
     "shell.execute_reply": "2024-09-13T14:25:25.161240Z",
     "shell.execute_reply.started": "2024-09-13T14:25:25.155678Z"
    },
    "tags": []
   },
   "outputs": [],
   "source": [
    "import pickle\n",
    "with open('test_data.pickle', 'wb') as file:\n",
    "    pickle.dump(results,file, protocol=pickle.HIGHEST_PROTOCOL)\n",
    "\n",
    "with open('old_test_data.pickle', 'wb') as file:\n",
    "     pickle.dump(oldresults,file, protocol=pickle.HIGHEST_PROTOCOL)\n",
    "\n",
    "#move these files to USDF\n"
   ]
  }
 ],
 "metadata": {
  "kernelspec": {
   "display_name": "LSST",
   "language": "python",
   "name": "lsst"
  },
  "language_info": {
   "codemirror_mode": {
    "name": "ipython",
    "version": 3
   },
   "file_extension": ".py",
   "mimetype": "text/x-python",
   "name": "python",
   "nbconvert_exporter": "python",
   "pygments_lexer": "ipython3",
   "version": "3.11.9"
  }
 },
 "nbformat": 4,
 "nbformat_minor": 5
}
