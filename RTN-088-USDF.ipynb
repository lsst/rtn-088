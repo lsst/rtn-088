{
 "cells": [
  {
   "cell_type": "code",
   "execution_count": 1,
   "id": "6886f1f9-e461-4cb4-89d3-f1b966cac1b8",
   "metadata": {
    "execution": {
     "iopub.execute_input": "2024-09-13T00:37:01.360377Z",
     "iopub.status.busy": "2024-09-13T00:37:01.359741Z",
     "iopub.status.idle": "2024-09-13T00:37:02.470130Z",
     "shell.execute_reply": "2024-09-13T00:37:02.469653Z",
     "shell.execute_reply.started": "2024-09-13T00:37:01.360357Z"
    },
    "tags": []
   },
   "outputs": [],
   "source": [
    "from lsst.daf.butler import Butler\n",
    "from lsst.daf.butler.registry import Registry\n",
    "import sqlalchemy\n",
    "from astropy import time\n",
    "\n",
    "\n",
    "repo = 'embargo_or4'\n",
    "instrument = 'LSSTComCamSim'\n",
    "# raw all collection contains all images \n",
    "collections = [f'{instrument}/raw/all']\n",
    "butler = Butler(repo, collections=collections, instrument=instrument)"
   ]
  },
  {
   "cell_type": "markdown",
   "id": "09bfe2c8-6dd1-44b2-8d67-b7d21091d567",
   "metadata": {},
   "source": [
    "# 3.1 Data transferred and ingested in butler and access to data\n",
    "\n",
    "Get the same raws as we did on the summit"
   ]
  },
  {
   "cell_type": "code",
   "execution_count": 2,
   "id": "8af5fe56-7e45-46cb-a33b-47ef5ba6889e",
   "metadata": {
    "execution": {
     "iopub.execute_input": "2024-09-13T00:37:06.920225Z",
     "iopub.status.busy": "2024-09-13T00:37:06.919892Z",
     "iopub.status.idle": "2024-09-13T00:37:07.346717Z",
     "shell.execute_reply": "2024-09-13T00:37:07.346259Z",
     "shell.execute_reply.started": "2024-09-13T00:37:06.920206Z"
    },
    "tags": []
   },
   "outputs": [
    {
     "name": "stdout",
     "output_type": "stream",
     "text": [
      "There are 7074 raw in collection: ['LSSTComCamSim/raw/all'] in: embargo_or4 for exposure.day_obs = 20240626\n",
      "5 7024062600001\n",
      "2 7024062600784\n"
     ]
    }
   ],
   "source": [
    "dt = 'raw'\n",
    "day = \"20240626\"\n",
    "where = f\"exposure.day_obs = {day}\"\n",
    "datasetRefs = list(butler.registry.queryDatasets(datasetType=dt,where=where))\n",
    "\n",
    "print(f\"There are {len(datasetRefs)} {dt} in collection: {collections} in: {repo} for {where}\")\n",
    "\n",
    "count = 0\n",
    "for ref in datasetRefs[0], datasetRefs[-1]:\n",
    "    count = count + 1\n",
    "    print( ref.dataId['detector'], ref.dataId['exposure'])"
   ]
  },
  {
   "cell_type": "code",
   "execution_count": 3,
   "id": "32609f2b-555d-4865-b1f6-5cb82431ce39",
   "metadata": {
    "execution": {
     "iopub.execute_input": "2024-09-13T00:37:09.720415Z",
     "iopub.status.busy": "2024-09-13T00:37:09.720096Z",
     "iopub.status.idle": "2024-09-13T00:37:09.724397Z",
     "shell.execute_reply": "2024-09-13T00:37:09.724003Z",
     "shell.execute_reply.started": "2024-09-13T00:37:09.720398Z"
    },
    "tags": []
   },
   "outputs": [],
   "source": [
    "# Make a map of thoose for look up below .. \n",
    "dslookup = {}\n",
    "for ref in datasetRefs:\n",
    "    dslookup[ref.dataId['exposure']] = ref"
   ]
  },
  {
   "cell_type": "markdown",
   "id": "b72217c0-97dc-4f61-8984-6ca32928ce31",
   "metadata": {
    "tags": []
   },
   "source": [
    "### latency ..\n",
    "\"Measure the delays between completion of readout for each image and the ingestion time recorded in the Butler Registry.\"\n",
    "The end of readout is the exposure.timespan.end.\n",
    "Will have to lookup the ingest time using a sql query since is not exposed directly in butler."
   ]
  },
  {
   "cell_type": "code",
   "execution_count": 4,
   "id": "b027f428-e386-48a2-8fe1-6b8bcd24ed97",
   "metadata": {
    "execution": {
     "iopub.execute_input": "2024-09-13T00:37:15.772574Z",
     "iopub.status.busy": "2024-09-13T00:37:15.772283Z",
     "iopub.status.idle": "2024-09-13T00:37:16.955193Z",
     "shell.execute_reply": "2024-09-13T00:37:16.954720Z",
     "shell.execute_reply.started": "2024-09-13T00:37:15.772559Z"
    },
    "tags": []
   },
   "outputs": [
    {
     "name": "stdout",
     "output_type": "stream",
     "text": [
      "Got Metadata for 786 exposures\n",
      "The min time was 0.20186854999987958 max time was 0.3452931833333128 minutes\n",
      "Time between shutter close and ingest mean:0.23514596764206372, std:0.012293191010495504, var:0.00015112254522052745 minutes\n"
     ]
    }
   ],
   "source": [
    "res = butler.registry.queryDimensionRecords('exposure', where=where, instrument=instrument)\n",
    "print (f\"Got Metadata for {res.count()} exposures\")\n",
    "times = []\n",
    "min = 100\n",
    "max = 0\n",
    "for count, dimensionRecord in enumerate(res):\n",
    "    datasetRef = dslookup[dimensionRecord.id]\n",
    "    uuid = datasetRef.id\n",
    "    # the ID in the dimension record is the exposure ID (dimensionRecord.id)\n",
    "    # the ID in the embargo.dataset is the UUID from the datasetRef \n",
    "    # hence the lookup map created in the cell above is used here to lookup the UUID\n",
    "    \n",
    "    q_string = f\"SELECT ingest_date FROM embargo.dataset WHERE id='{uuid}'\"\n",
    "    with butler.registry._registry._db.query(sqlalchemy.text(q_string)) as q:\n",
    "        intime = time.Time(q.all()[0][0])\n",
    "        \n",
    "    diff = (intime - dimensionRecord.timespan.end ).to('minute')\n",
    "    if diff.value < min:\n",
    "        min = diff.value\n",
    "    if diff.value > max:\n",
    "        max = diff.value \n",
    "    #print(r.id,r.timespan.end, intime, diff )\n",
    "    times.append(diff.value)\n",
    "    \n",
    "import numpy as np\n",
    "print (f\"The min time was {min} max time was {max} minutes\")\n",
    "print (f\"Time between shutter close and ingest mean:{np.mean(times)}, std:{np.std(times)}, var:{np.var(times)} minutes\")"
   ]
  },
  {
   "cell_type": "code",
   "execution_count": 5,
   "id": "fb3504b8-f273-495e-93cd-a5387866798b",
   "metadata": {
    "execution": {
     "iopub.execute_input": "2024-09-13T00:37:20.818244Z",
     "iopub.status.busy": "2024-09-13T00:37:20.817922Z",
     "iopub.status.idle": "2024-09-13T00:37:21.327363Z",
     "shell.execute_reply": "2024-09-13T00:37:21.326989Z",
     "shell.execute_reply.started": "2024-09-13T00:37:20.818228Z"
    },
    "tags": []
   },
   "outputs": [
    {
     "data": {
      "image/png": "[encoded data removed]",
      "text/plain": [
       "<Figure size 640x480 with 1 Axes>"
      ]
     },
     "metadata": {},
     "output_type": "display_data"
    }
   ],
   "source": [
    "import matplotlib.pyplot as plt\n",
    "seconds = list(map(lambda t:t*60.0,times))\n",
    "plt.hist(seconds,bins='auto')\n",
    "plt.title(f\"Shutter close to ingest times (s) on {day}\")\n",
    "plt.show()"
   ]
  },
  {
   "cell_type": "markdown",
   "id": "a03dcf62-0a40-4ae9-a2ce-73f488916b68",
   "metadata": {
    "execution": {
     "iopub.execute_input": "2023-05-19T16:05:02.136347Z",
     "iopub.status.busy": "2023-05-19T16:05:02.136128Z",
     "iopub.status.idle": "2023-05-19T16:05:02.140189Z",
     "shell.execute_reply": "2023-05-19T16:05:02.139614Z",
     "shell.execute_reply.started": "2023-05-19T16:05:02.136331Z"
    },
    "tags": []
   },
   "source": [
    "# 3.2 LFA replication to USDF\n",
    "Look in EFD for events with Large Files.\n",
    "Get a few of the files randomly "
   ]
  },
  {
   "cell_type": "code",
   "execution_count": 6,
   "id": "a374ce36-385f-437c-9753-8abf1ee39cb1",
   "metadata": {
    "execution": {
     "iopub.execute_input": "2024-09-13T00:37:29.422746Z",
     "iopub.status.busy": "2024-09-13T00:37:29.422458Z",
     "iopub.status.idle": "2024-09-13T00:37:29.970783Z",
     "shell.execute_reply": "2024-09-13T00:37:29.970350Z",
     "shell.execute_reply.started": "2024-09-13T00:37:29.422732Z"
    },
    "tags": []
   },
   "outputs": [],
   "source": [
    "from lsst_efd_client import EfdClient, resample\n",
    "loc = 'usdf'\n",
    "\n",
    "client = EfdClient(f'{loc}_efd')  \n",
    "client.output = 'dataframe'\n",
    "cl=client.influx_client\n",
    "day = '2023-04-20'\n",
    "\n",
    "query=f'''SELECT url, id FROM \"lsst.sal.Electrometer.logevent_largeFileObjectAvailable\" WHERE time >  '{day}' '''\n",
    "result = await cl.query(query)\n"
   ]
  },
  {
   "cell_type": "markdown",
   "id": "cd88b5db-b26f-477b-8160-d2cb8233ed23",
   "metadata": {},
   "source": [
    "**MUST use at least weekly 19 for the LFA to work Recommended fails"
   ]
  },
  {
   "cell_type": "code",
   "execution_count": 7,
   "id": "7ff4d6d7-dcea-4d91-b0ab-bad8122b3547",
   "metadata": {
    "execution": {
     "iopub.execute_input": "2024-09-13T00:37:33.587141Z",
     "iopub.status.busy": "2024-09-13T00:37:33.586843Z",
     "iopub.status.idle": "2024-09-13T00:37:34.097340Z",
     "shell.execute_reply": "2024-09-13T00:37:34.096877Z",
     "shell.execute_reply.started": "2024-09-13T00:37:33.587126Z"
    },
    "tags": []
   },
   "outputs": [
    {
     "name": "stdout",
     "output_type": "stream",
     "text": [
      "Got 17937 Large files available since 2023-04-20 at usdf\n",
      "result[12338] https://s3.cp.lsst.org/rubinobs-lfa-cp/Electrometer:201/fits/2024/06/27/Electrometer:201_fits_2024-06-28T00:28:29.405.fits\n",
      "Access s3://rubin:rubinobs-lfa-cp/Electrometer:201/fits/2024/06/27/Electrometer:201_fits_2024-06-28T00:28:29.405.fits\n",
      "Object is 8640 bytes. b'SIMPLE  =                    T / conforms to FITS standard                      '\n",
      "result[2643] https://s3.cp.lsst.org/rubinobs-lfa-cp/Electrometer:201/fits/2024/05/28/Electrometer:201_fits_2024-05-28T18:07:11.841.fits\n",
      "Access s3://rubin:rubinobs-lfa-cp/Electrometer:201/fits/2024/05/28/Electrometer:201_fits_2024-05-28T18:07:11.841.fits\n",
      "Object is 8640 bytes. b'SIMPLE  =                    T / conforms to FITS standard                      '\n",
      "result[15776] https://s3.cp.lsst.org/rubinobs-lfa-cp/Electrometer:102/fits/2024/08/16/Electrometer:102_fits_2024-08-16T18:45:18.485.fits\n",
      "Access s3://rubin:rubinobs-lfa-cp/Electrometer:102/fits/2024/08/16/Electrometer:102_fits_2024-08-16T18:45:18.485.fits\n"
     ]
    },
    {
     "name": "stderr",
     "output_type": "stream",
     "text": [
      "/tmp/ipykernel_3982/2856327212.py:9: FutureWarning: Series.__getitem__ treating keys as positions is deprecated. In a future version, integer keys will always be treated as labels (consistent with DataFrame behavior). To access a value by position, use `ser.iloc[pos]`\n",
      "  file_uri = ResourcePath(result.url[pos].replace(\"https://s3.cp.lsst.org/\",\"s3://rubin:\")  )\n",
      "/tmp/ipykernel_3982/2856327212.py:10: FutureWarning: Series.__getitem__ treating keys as positions is deprecated. In a future version, integer keys will always be treated as labels (consistent with DataFrame behavior). To access a value by position, use `ser.iloc[pos]`\n",
      "  print (f\"result[{pos}] {result.url[pos]}\")\n"
     ]
    },
    {
     "name": "stdout",
     "output_type": "stream",
     "text": [
      "Object is 23040 bytes. b'SIMPLE  =                    T / conforms to FITS standard                      '\n",
      "result[14106] https://s3.cp.lsst.org/rubinobs-lfa-cp/Electrometer:201/fits/2024/07/26/Electrometer:201_fits_2024-07-26T18:36:49.828.fits\n",
      "Access s3://rubin:rubinobs-lfa-cp/Electrometer:201/fits/2024/07/26/Electrometer:201_fits_2024-07-26T18:36:49.828.fits\n",
      "Object is 8640 bytes. b'SIMPLE  =                    T / conforms to FITS standard                      '\n",
      "result[9207] https://s3.cp.lsst.org/rubinobs-lfa-cp/Electrometer:201/fits/2024/06/24/Electrometer:201_fits_2024-06-25T09:30:40.976.fits\n",
      "Access s3://rubin:rubinobs-lfa-cp/Electrometer:201/fits/2024/06/24/Electrometer:201_fits_2024-06-25T09:30:40.976.fits\n",
      "Object is 8640 bytes. b'SIMPLE  =                    T / conforms to FITS standard                      '\n"
     ]
    }
   ],
   "source": [
    "print(f\"Got {len(result)} Large files available since {day} at {loc}\")\n",
    "# KT says we  need this next line\n",
    "os.environ[\"LSST_DISABLE_BUCKET_VALIDATION\"] = \"1\"\n",
    "\n",
    "from lsst.resources import ResourcePath\n",
    "import random\n",
    "for f in range(0,5):\n",
    "   pos = random.randrange(0,len(result))\n",
    "   file_uri = ResourcePath(result.url[pos].replace(\"https://s3.cp.lsst.org/\",\"s3://rubin:\")  )  \n",
    "   print (f\"result[{pos}] {result.url[pos]}\")\n",
    "   print (f\"Access {file_uri}\")\n",
    "   contents = file_uri.read()\n",
    "   print (f\"Object is {len(contents)} bytes. {contents[0:80]}\")\n"
   ]
  },
  {
   "cell_type": "markdown",
   "id": "e01a11d5-9b5e-4870-a1d5-7733c737804a",
   "metadata": {},
   "source": [
    "# 3.3 Automated prompt processing\n",
    "Look in butler for products from prompt processing (ISR for AuxTel)"
   ]
  },
  {
   "cell_type": "code",
   "execution_count": 8,
   "id": "cb8b1529-08aa-4e1a-a295-0ce5698c88a1",
   "metadata": {
    "execution": {
     "iopub.execute_input": "2024-09-13T00:37:39.708516Z",
     "iopub.status.busy": "2024-09-13T00:37:39.707893Z",
     "iopub.status.idle": "2024-09-13T00:37:39.824404Z",
     "shell.execute_reply": "2024-09-13T00:37:39.823915Z",
     "shell.execute_reply.started": "2024-09-13T00:37:39.708500Z"
    },
    "tags": []
   },
   "outputs": [],
   "source": [
    "butler = Butler(repo, instrument=instrument)"
   ]
  },
  {
   "cell_type": "code",
   "execution_count": 9,
   "id": "4b27171a-17dd-4d86-af6b-f9328f1e3321",
   "metadata": {
    "execution": {
     "iopub.execute_input": "2024-09-13T00:37:42.069911Z",
     "iopub.status.busy": "2024-09-13T00:37:42.069584Z",
     "iopub.status.idle": "2024-09-13T00:37:42.086937Z",
     "shell.execute_reply": "2024-09-13T00:37:42.086519Z",
     "shell.execute_reply.started": "2024-09-13T00:37:42.069893Z"
    },
    "tags": []
   },
   "outputs": [
    {
     "name": "stdout",
     "output_type": "stream",
     "text": [
      "LSSTComCamSim/prompt/output-2024-06-18/ApPipe/prompt-proto-service-lsstcomcamsim-00039\n",
      "LSSTComCamSim/prompt/output-2024-06-18/Preload/prompt-proto-service-lsstcomcamsim-00039\n",
      "LSSTComCamSim/prompt/output-2024-06-21/ApPipe/prompt-proto-service-lsstcomcamsim-00040\n",
      "LSSTComCamSim/prompt/output-2024-06-21/Preload/prompt-proto-service-lsstcomcamsim-00040\n",
      "LSSTComCamSim/prompt/output-2024-06-25/ApPipe/prompt-proto-service-lsstcomcamsim-00042\n",
      "LSSTComCamSim/prompt/output-2024-06-25/Preload/prompt-proto-service-lsstcomcamsim-00042\n",
      "LSSTComCamSim/prompt/output-2024-06-25/ApPipe/prompt-proto-service-lsstcomcamsim-00043\n",
      "LSSTComCamSim/prompt/output-2024-06-25/Preload/prompt-proto-service-lsstcomcamsim-00043\n",
      "LSSTComCamSim/prompt/output-2024-06-26/ApPipe/prompt-proto-service-lsstcomcamsim-00044\n",
      "LSSTComCamSim/prompt/output-2024-06-26/Preload/prompt-proto-service-lsstcomcamsim-00044\n",
      "LSSTComCamSim/prompt/output-2024-06-27/ApPipe/prompt-proto-service-lsstcomcamsim-00046\n",
      "LSSTComCamSim/prompt/output-2024-06-27/Preload/prompt-proto-service-lsstcomcamsim-00046\n",
      "LSSTComCamSim/prompt/output-2024-06-18\n",
      "LSSTComCamSim/prompt/output-2024-06-21\n",
      "LSSTComCamSim/prompt/output-2024-06-25\n",
      "LSSTComCamSim/prompt/output-2024-06-26\n",
      "LSSTComCamSim/prompt/output-2024-06-27\n"
     ]
    }
   ],
   "source": [
    "cols = butler.registry.queryCollections('LSSTComCamSim/prompt/*')\n",
    "for c in cols:\n",
    "   print(c)"
   ]
  },
  {
   "cell_type": "code",
   "execution_count": 10,
   "id": "986bd16a-b306-4893-a588-953249929372",
   "metadata": {
    "execution": {
     "iopub.execute_input": "2024-09-13T00:37:45.613487Z",
     "iopub.status.busy": "2024-09-13T00:37:45.613178Z",
     "iopub.status.idle": "2024-09-13T00:37:45.615933Z",
     "shell.execute_reply": "2024-09-13T00:37:45.615558Z",
     "shell.execute_reply.started": "2024-09-13T00:37:45.613473Z"
    },
    "tags": []
   },
   "outputs": [],
   "source": [
    "promptcollection = ['LSSTComCamSim/prompt/output-2024-06-26/ApPipe/prompt-proto-service-lsstcomcamsim-00044']\n",
    "#promptcollection = ['LSSTComCamSim/prompt/output-2024-06-26']"
   ]
  },
  {
   "cell_type": "code",
   "execution_count": 11,
   "id": "05eb6453-57a8-4dbc-bc59-2487ab2e069b",
   "metadata": {
    "execution": {
     "iopub.execute_input": "2024-09-13T00:37:47.571431Z",
     "iopub.status.busy": "2024-09-13T00:37:47.571110Z",
     "iopub.status.idle": "2024-09-13T00:37:48.185695Z",
     "shell.execute_reply": "2024-09-13T00:37:48.185191Z",
     "shell.execute_reply.started": "2024-09-13T00:37:47.571417Z"
    },
    "tags": []
   },
   "outputs": [
    {
     "name": "stdout",
     "output_type": "stream",
     "text": [
      "There are 5940 raw in collection: ['LSSTComCamSim/raw/all'] in: embargo_or4 for exposure.day_obs = 20240626 and exposure.observation_reason = 'object'\n",
      "There are 4890 initial_pvi in collection: ['LSSTComCamSim/prompt/output-2024-06-26/ApPipe/prompt-proto-service-lsstcomcamsim-00044'] in: embargo_or4\n"
     ]
    }
   ],
   "source": [
    "dt = 'raw'\n",
    "pday = '20240626'\n",
    "where = f\"exposure.day_obs = {pday} and exposure.observation_reason = 'object'\"\n",
    "datasetRefs = list(butler.registry.queryDatasets(datasetType=dt,where=where, collections=collections))\n",
    "dtp = 'initial_pvi'\n",
    "datasetPrompt = list(butler.registry.queryDatasets(datasetType=dtp, collections=promptcollection))\n",
    "\n",
    "print(f\"There are {len(datasetRefs)} {dt} in collection: {collections} in: {repo} for {where}\")\n",
    "print(f\"There are {len(datasetPrompt)} {dtp} in collection: {promptcollection} in: {repo}\")"
   ]
  },
  {
   "cell_type": "code",
   "execution_count": 12,
   "id": "7feb3c4b-17e5-4a55-9cb4-956d564a9198",
   "metadata": {
    "execution": {
     "iopub.execute_input": "2024-09-13T00:37:56.437062Z",
     "iopub.status.busy": "2024-09-13T00:37:56.436532Z",
     "iopub.status.idle": "2024-09-13T00:37:56.442567Z",
     "shell.execute_reply": "2024-09-13T00:37:56.442169Z",
     "shell.execute_reply.started": "2024-09-13T00:37:56.437044Z"
    },
    "tags": []
   },
   "outputs": [],
   "source": [
    "# Make a map of the prompt processed images for look up below .. \n",
    "# we can not always assume this but for this run exposureid = visitid \n",
    "explookup = {}\n",
    "for ref in datasetRefs:\n",
    "    explookup[ref.dataId['exposure']] = ref\n",
    "    \n",
    "pdslookup = {}\n",
    "for ref in datasetPrompt:\n",
    "    pdslookup[ref.dataId['visit']] = explookup[ref.dataId['visit']]\n",
    "    \n",
    "# Now we have the set of exposures which were processed by prompt processing"
   ]
  },
  {
   "cell_type": "code",
   "execution_count": 13,
   "id": "2502a0e2-db59-47dc-bd07-3b1e6db46285",
   "metadata": {
    "execution": {
     "iopub.execute_input": "2024-09-13T00:38:07.792828Z",
     "iopub.status.busy": "2024-09-13T00:38:07.792621Z",
     "iopub.status.idle": "2024-09-13T00:38:08.671040Z",
     "shell.execute_reply": "2024-09-13T00:38:08.670573Z",
     "shell.execute_reply.started": "2024-09-13T00:38:07.792815Z"
    },
    "tags": []
   },
   "outputs": [
    {
     "name": "stdout",
     "output_type": "stream",
     "text": [
      "Time between shutter close and prompt mean:0.23514596764206372, std:0.012293191010495504, var:0.00015112254522052745 minutes\n",
      "The min time was 0.2103921000000053 max time was 0.3452931833333128 minutes for the 786 images\n"
     ]
    }
   ],
   "source": [
    "res = butler.registry.queryDimensionRecords('exposure', where=where, instrument=instrument)\n",
    "# These are the exposues which have a shutter close time.\n",
    "\n",
    "ptimes = []\n",
    "min = 100\n",
    "max = 0\n",
    "for count,dimensionRecord in enumerate(res):\n",
    "    if dimensionRecord.id not in pdslookup:\n",
    "        continue\n",
    "    datasetRef = pdslookup[dimensionRecord.id]\n",
    "    uuid = datasetRef.id\n",
    "    # the ID in the dimesnion record is the exposure ID (dimensionRecord.id)\n",
    "    # the ID in the embargo.dataset is the UUID from the datasetRef \n",
    "    # hence the lookup map created in the ell above is used here to lookup the UUID\n",
    "    \n",
    "    q_string = f\"SELECT ingest_date FROM embargo.dataset WHERE id='{uuid}'\"\n",
    "    with butler.registry._registry._db.query(sqlalchemy.text(q_string)) as q:\n",
    "        intime = time.Time(q.all()[0][0])\n",
    "        \n",
    "    diff = (intime - dimensionRecord.timespan.end ).to('minute')\n",
    "    if diff.value < min:\n",
    "        min = diff.value\n",
    "    if diff.value > max:\n",
    "        max = diff.value \n",
    "    #print(r.id,r.timespan.end, intime, diff )\n",
    "    ptimes.append(diff.value)\n",
    "    \n",
    "import numpy as np\n",
    "print (f\"Time between shutter close and prompt mean:{np.mean(times)}, std:{np.std(times)}, var:{np.var(times)} minutes\")\n",
    "print (f\"The min time was {min} max time was {max} minutes for the {len(times)} images\")\n",
    "    "
   ]
  },
  {
   "cell_type": "code",
   "execution_count": 14,
   "id": "a0913a2c-4956-4cdb-a740-ed71afa8728a",
   "metadata": {
    "execution": {
     "iopub.execute_input": "2024-09-13T00:38:12.063771Z",
     "iopub.status.busy": "2024-09-13T00:38:12.063412Z",
     "iopub.status.idle": "2024-09-13T00:38:12.174130Z",
     "shell.execute_reply": "2024-09-13T00:38:12.173717Z",
     "shell.execute_reply.started": "2024-09-13T00:38:12.063755Z"
    },
    "tags": []
   },
   "outputs": [
    {
     "data": {
      "image/png": "[encoded data removed]",
      "text/plain": [
       "<Figure size 640x480 with 1 Axes>"
      ]
     },
     "metadata": {},
     "output_type": "display_data"
    }
   ],
   "source": [
    "import matplotlib.pyplot as plt\n",
    "seconds = list(map(lambda t:t*60.0,ptimes))\n",
    "plt.hist(seconds,bins='auto')\n",
    "plt.title(f\"Shutter close to prompt product ingest times (s) on {pday}\")\n",
    "plt.show()"
   ]
  },
  {
   "cell_type": "markdown",
   "id": "ff09647c-529d-4acb-b5a3-c0a883ecffe9",
   "metadata": {},
   "source": [
    "# 3.4 EFD data available"
   ]
  },
  {
   "cell_type": "code",
   "execution_count": 15,
   "id": "359d4cf0-0566-4b82-ad01-a9ba581e3f1e",
   "metadata": {
    "execution": {
     "iopub.execute_input": "2024-09-13T00:38:18.180125Z",
     "iopub.status.busy": "2024-09-13T00:38:18.179803Z",
     "iopub.status.idle": "2024-09-13T00:38:18.183382Z",
     "shell.execute_reply": "2024-09-13T00:38:18.182956Z",
     "shell.execute_reply.started": "2024-09-13T00:38:18.180104Z"
    },
    "tags": []
   },
   "outputs": [
    {
     "name": "stdout",
     "output_type": "stream",
     "text": [
      "Five topics selected on summit ['lsst.sal.ATPtg.mountPositions', 'lsst.sal.MTAirCompressor.analogData', 'lsst.sal.MTMount.elevationDrives', 'lsst.sal.GIS.logevent_heartbeat']\n",
      "Five older topics selected on summit ['lsst.sal.ATPtg.mountPositions', 'lsst.sal.MTAirCompressor.analogData', 'lsst.sal.GIS.logevent_heartbeat', 'lsst.sal.ESS.lightningStrikeStatus']\n"
     ]
    }
   ],
   "source": [
    "selected_topics=['lsst.sal.ATPtg.mountPositions', 'lsst.sal.MTAirCompressor.analogData', 'lsst.sal.MTMount.elevationDrives', 'lsst.sal.GIS.logevent_heartbeat']\n",
    "older_topics=['lsst.sal.ATPtg.mountPositions', 'lsst.sal.MTAirCompressor.analogData', 'lsst.sal.GIS.logevent_heartbeat', 'lsst.sal.ESS.lightningStrikeStatus']\n",
    "print(f\"Five topics selected on summit {selected_topics}\")\n",
    "print(f\"Five older topics selected on summit {older_topics}\")\n"
   ]
  },
  {
   "cell_type": "code",
   "execution_count": null,
   "id": "d300a9ae-1e55-4af6-94d4-ee9cd7b31096",
   "metadata": {
    "tags": []
   },
   "outputs": [],
   "source": [
    "import pickle\n",
    "results = {}\n",
    "oldday = '2024-06-26'\n",
    "#get test_data files from summit notebook\n",
    "with open('test_data.pickle', 'rb') as file:\n",
    "    results = pickle.load(file)\n",
    "with open('old_test_data.pickle', 'rb') as file:\n",
    "    oldresults = pickle.load(file)\n"
   ]
  },
  {
   "cell_type": "code",
   "execution_count": null,
   "id": "7e5ef411-7ad1-4529-8ad1-c771ee591102",
   "metadata": {
    "tags": []
   },
   "outputs": [],
   "source": [
    "def cmp(topic, result, sresult):\n",
    "   print (f\"{topic} had {len(result)} messages - summit had {len(sresult)}\")\n",
    "   if len(result) != len(sresult):\n",
    "        print (f\"{topic} does not match\")\n",
    "   else:\n",
    "        for k in sresult.keys():\n",
    "            if result[k].all() != sresult[k].all():\n",
    "                print (f\"{topic} {key} does not match\")\n"
   ]
  },
  {
   "cell_type": "code",
   "execution_count": null,
   "id": "e4107ab2-b5ab-485d-b26b-ed3498566b32",
   "metadata": {
    "tags": []
   },
   "outputs": [],
   "source": [
    "for topic in selected_topics:\n",
    "   query=f'''SELECT * FROM \"{topic}\" WHERE time >  '{day}T00:00:00.000Z' and time < '{day}T00:00:30.000Z' '''\n",
    "   result = await cl.query(query)\n",
    "   cmp(topic, result, results[topic])\n",
    "print(\"Older messages\")\n",
    "for topic in older_topics:\n",
    "   query=f'''SELECT * FROM \"{topic}\" WHERE time >  '{oldday}T00:00:00.000Z' and time < '{oldday}T00:00:30.000Z' '''\n",
    "   result = await cl.query(query)\n",
    "   cmp(topic, result, oldresults[topic])\n",
    "   \n"
   ]
  }
 ],
 "metadata": {
  "kernelspec": {
   "display_name": "LSST",
   "language": "python",
   "name": "lsst"
  },
  "language_info": {
   "codemirror_mode": {
    "name": "ipython",
    "version": 3
   },
   "file_extension": ".py",
   "mimetype": "text/x-python",
   "name": "python",
   "nbconvert_exporter": "python",
   "pygments_lexer": "ipython3",
   "version": "3.11.9"
  }
 },
 "nbformat": 4,
 "nbformat_minor": 5
}
